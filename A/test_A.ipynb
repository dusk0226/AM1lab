{
 "cells": [
  {
   "cell_type": "code",
   "execution_count": 64,
   "metadata": {},
   "outputs": [
    {
     "name": "stderr",
     "output_type": "stream",
     "text": [
      "e:\\Anaconda\\envs\\IMLS\\lib\\site-packages\\sklearn\\utils\\validation.py:993: DataConversionWarning: A column-vector y was passed when a 1d array was expected. Please change the shape of y to (n_samples, ), for example using ravel().\n",
      "  y = column_or_1d(y, warn=True)\n",
      "e:\\Anaconda\\envs\\IMLS\\lib\\site-packages\\ipykernel_launcher.py:79: DataConversionWarning: A column-vector y was passed when a 1d array was expected. Please change the shape of y to (n_samples,), for example using ravel().\n",
      "e:\\Anaconda\\envs\\IMLS\\lib\\site-packages\\ipykernel_launcher.py:79: DataConversionWarning: A column-vector y was passed when a 1d array was expected. Please change the shape of y to (n_samples,), for example using ravel().\n"
     ]
    },
    {
     "name": "stdout",
     "output_type": "stream",
     "text": [
      "Accuracy on logistic test: 0.7307692307692307\n",
      "Accuracy on randomforest test: 0.6410256410256411\n",
      "Accuracy on randomforest test with more features: 0.7435897435897436\n",
      "Accuracy on logistic test: 0.7307692307692307\n"
     ]
    },
    {
     "name": "stderr",
     "output_type": "stream",
     "text": [
      "e:\\Anaconda\\envs\\IMLS\\lib\\site-packages\\sklearn\\utils\\validation.py:993: DataConversionWarning: A column-vector y was passed when a 1d array was expected. Please change the shape of y to (n_samples, ), for example using ravel().\n",
      "  y = column_or_1d(y, warn=True)\n",
      "e:\\Anaconda\\envs\\IMLS\\lib\\site-packages\\ipykernel_launcher.py:79: DataConversionWarning: A column-vector y was passed when a 1d array was expected. Please change the shape of y to (n_samples,), for example using ravel().\n",
      "e:\\Anaconda\\envs\\IMLS\\lib\\site-packages\\ipykernel_launcher.py:79: DataConversionWarning: A column-vector y was passed when a 1d array was expected. Please change the shape of y to (n_samples,), for example using ravel().\n"
     ]
    },
    {
     "name": "stdout",
     "output_type": "stream",
     "text": [
      "Accuracy on randomforest test: 0.6410256410256411\n",
      "Accuracy on randomforest test with more features: 0.7564102564102564\n"
     ]
    },
    {
     "name": "stderr",
     "output_type": "stream",
     "text": [
      "e:\\Anaconda\\envs\\IMLS\\lib\\site-packages\\sklearn\\utils\\validation.py:993: DataConversionWarning: A column-vector y was passed when a 1d array was expected. Please change the shape of y to (n_samples, ), for example using ravel().\n",
      "  y = column_or_1d(y, warn=True)\n",
      "e:\\Anaconda\\envs\\IMLS\\lib\\site-packages\\ipykernel_launcher.py:79: DataConversionWarning: A column-vector y was passed when a 1d array was expected. Please change the shape of y to (n_samples,), for example using ravel().\n",
      "e:\\Anaconda\\envs\\IMLS\\lib\\site-packages\\ipykernel_launcher.py:79: DataConversionWarning: A column-vector y was passed when a 1d array was expected. Please change the shape of y to (n_samples,), for example using ravel().\n"
     ]
    },
    {
     "name": "stdout",
     "output_type": "stream",
     "text": [
      "Accuracy on logistic test: 0.7307692307692307\n",
      "Accuracy on randomforest test: 0.6410256410256411\n",
      "Accuracy on randomforest test with more features: 0.7564102564102564\n",
      "Accuracy on logistic test: 0.7307692307692307\n",
      "Accuracy on randomforest test: 0.6410256410256411\n"
     ]
    },
    {
     "name": "stderr",
     "output_type": "stream",
     "text": [
      "e:\\Anaconda\\envs\\IMLS\\lib\\site-packages\\sklearn\\utils\\validation.py:993: DataConversionWarning: A column-vector y was passed when a 1d array was expected. Please change the shape of y to (n_samples, ), for example using ravel().\n",
      "  y = column_or_1d(y, warn=True)\n",
      "e:\\Anaconda\\envs\\IMLS\\lib\\site-packages\\ipykernel_launcher.py:79: DataConversionWarning: A column-vector y was passed when a 1d array was expected. Please change the shape of y to (n_samples,), for example using ravel().\n",
      "e:\\Anaconda\\envs\\IMLS\\lib\\site-packages\\ipykernel_launcher.py:79: DataConversionWarning: A column-vector y was passed when a 1d array was expected. Please change the shape of y to (n_samples,), for example using ravel().\n"
     ]
    },
    {
     "name": "stdout",
     "output_type": "stream",
     "text": [
      "Accuracy on randomforest test with more features: 0.7435897435897436\n",
      "Accuracy on logistic test: 0.7307692307692307\n",
      "Accuracy on randomforest test: 0.6474358974358975\n"
     ]
    },
    {
     "name": "stderr",
     "output_type": "stream",
     "text": [
      "e:\\Anaconda\\envs\\IMLS\\lib\\site-packages\\sklearn\\utils\\validation.py:993: DataConversionWarning: A column-vector y was passed when a 1d array was expected. Please change the shape of y to (n_samples, ), for example using ravel().\n",
      "  y = column_or_1d(y, warn=True)\n",
      "e:\\Anaconda\\envs\\IMLS\\lib\\site-packages\\ipykernel_launcher.py:79: DataConversionWarning: A column-vector y was passed when a 1d array was expected. Please change the shape of y to (n_samples,), for example using ravel().\n",
      "e:\\Anaconda\\envs\\IMLS\\lib\\site-packages\\ipykernel_launcher.py:79: DataConversionWarning: A column-vector y was passed when a 1d array was expected. Please change the shape of y to (n_samples,), for example using ravel().\n"
     ]
    },
    {
     "name": "stdout",
     "output_type": "stream",
     "text": [
      "Accuracy on randomforest test with more features: 0.7628205128205128\n",
      "Accuracy on logistic test: 0.7307692307692307\n",
      "Accuracy on randomforest test: 0.6410256410256411\n"
     ]
    },
    {
     "name": "stderr",
     "output_type": "stream",
     "text": [
      "e:\\Anaconda\\envs\\IMLS\\lib\\site-packages\\sklearn\\utils\\validation.py:993: DataConversionWarning: A column-vector y was passed when a 1d array was expected. Please change the shape of y to (n_samples, ), for example using ravel().\n",
      "  y = column_or_1d(y, warn=True)\n",
      "e:\\Anaconda\\envs\\IMLS\\lib\\site-packages\\ipykernel_launcher.py:79: DataConversionWarning: A column-vector y was passed when a 1d array was expected. Please change the shape of y to (n_samples,), for example using ravel().\n",
      "e:\\Anaconda\\envs\\IMLS\\lib\\site-packages\\ipykernel_launcher.py:79: DataConversionWarning: A column-vector y was passed when a 1d array was expected. Please change the shape of y to (n_samples,), for example using ravel().\n"
     ]
    },
    {
     "name": "stdout",
     "output_type": "stream",
     "text": [
      "Accuracy on randomforest test with more features: 0.75\n",
      "Accuracy on logistic test: 0.717948717948718\n",
      "Accuracy on randomforest test: 0.6730769230769231\n"
     ]
    },
    {
     "name": "stderr",
     "output_type": "stream",
     "text": [
      "e:\\Anaconda\\envs\\IMLS\\lib\\site-packages\\sklearn\\utils\\validation.py:993: DataConversionWarning: A column-vector y was passed when a 1d array was expected. Please change the shape of y to (n_samples, ), for example using ravel().\n",
      "  y = column_or_1d(y, warn=True)\n",
      "e:\\Anaconda\\envs\\IMLS\\lib\\site-packages\\ipykernel_launcher.py:79: DataConversionWarning: A column-vector y was passed when a 1d array was expected. Please change the shape of y to (n_samples,), for example using ravel().\n",
      "e:\\Anaconda\\envs\\IMLS\\lib\\site-packages\\ipykernel_launcher.py:79: DataConversionWarning: A column-vector y was passed when a 1d array was expected. Please change the shape of y to (n_samples,), for example using ravel().\n"
     ]
    },
    {
     "name": "stdout",
     "output_type": "stream",
     "text": [
      "Accuracy on randomforest test with more features: 0.7307692307692307\n",
      "Accuracy on logistic test: 0.717948717948718\n"
     ]
    },
    {
     "name": "stderr",
     "output_type": "stream",
     "text": [
      "e:\\Anaconda\\envs\\IMLS\\lib\\site-packages\\sklearn\\utils\\validation.py:993: DataConversionWarning: A column-vector y was passed when a 1d array was expected. Please change the shape of y to (n_samples, ), for example using ravel().\n",
      "  y = column_or_1d(y, warn=True)\n",
      "e:\\Anaconda\\envs\\IMLS\\lib\\site-packages\\ipykernel_launcher.py:79: DataConversionWarning: A column-vector y was passed when a 1d array was expected. Please change the shape of y to (n_samples,), for example using ravel().\n",
      "e:\\Anaconda\\envs\\IMLS\\lib\\site-packages\\ipykernel_launcher.py:79: DataConversionWarning: A column-vector y was passed when a 1d array was expected. Please change the shape of y to (n_samples,), for example using ravel().\n"
     ]
    },
    {
     "name": "stdout",
     "output_type": "stream",
     "text": [
      "Accuracy on randomforest test: 0.6666666666666666\n",
      "Accuracy on randomforest test with more features: 0.7371794871794872\n"
     ]
    },
    {
     "name": "stderr",
     "output_type": "stream",
     "text": [
      "e:\\Anaconda\\envs\\IMLS\\lib\\site-packages\\sklearn\\utils\\validation.py:993: DataConversionWarning: A column-vector y was passed when a 1d array was expected. Please change the shape of y to (n_samples, ), for example using ravel().\n",
      "  y = column_or_1d(y, warn=True)\n",
      "e:\\Anaconda\\envs\\IMLS\\lib\\site-packages\\ipykernel_launcher.py:79: DataConversionWarning: A column-vector y was passed when a 1d array was expected. Please change the shape of y to (n_samples,), for example using ravel().\n"
     ]
    },
    {
     "name": "stdout",
     "output_type": "stream",
     "text": [
      "Accuracy on logistic test: 0.717948717948718\n",
      "Accuracy on randomforest test: 0.6666666666666666\n"
     ]
    },
    {
     "name": "stderr",
     "output_type": "stream",
     "text": [
      "e:\\Anaconda\\envs\\IMLS\\lib\\site-packages\\ipykernel_launcher.py:79: DataConversionWarning: A column-vector y was passed when a 1d array was expected. Please change the shape of y to (n_samples,), for example using ravel().\n"
     ]
    },
    {
     "name": "stdout",
     "output_type": "stream",
     "text": [
      "Accuracy on randomforest test with more features: 0.7243589743589743\n",
      "Accuracy on logistic test: 0.7628205128205128\n",
      "Accuracy on randomforest test: 0.782051282051282\n"
     ]
    },
    {
     "name": "stderr",
     "output_type": "stream",
     "text": [
      "e:\\Anaconda\\envs\\IMLS\\lib\\site-packages\\sklearn\\utils\\validation.py:993: DataConversionWarning: A column-vector y was passed when a 1d array was expected. Please change the shape of y to (n_samples, ), for example using ravel().\n",
      "  y = column_or_1d(y, warn=True)\n",
      "e:\\Anaconda\\envs\\IMLS\\lib\\site-packages\\ipykernel_launcher.py:79: DataConversionWarning: A column-vector y was passed when a 1d array was expected. Please change the shape of y to (n_samples,), for example using ravel().\n",
      "e:\\Anaconda\\envs\\IMLS\\lib\\site-packages\\ipykernel_launcher.py:79: DataConversionWarning: A column-vector y was passed when a 1d array was expected. Please change the shape of y to (n_samples,), for example using ravel().\n"
     ]
    },
    {
     "name": "stdout",
     "output_type": "stream",
     "text": [
      "Accuracy on randomforest test with more features: 0.75\n",
      "Accuracy on logistic test: 0.7692307692307693\n"
     ]
    },
    {
     "name": "stderr",
     "output_type": "stream",
     "text": [
      "e:\\Anaconda\\envs\\IMLS\\lib\\site-packages\\sklearn\\utils\\validation.py:993: DataConversionWarning: A column-vector y was passed when a 1d array was expected. Please change the shape of y to (n_samples, ), for example using ravel().\n",
      "  y = column_or_1d(y, warn=True)\n",
      "e:\\Anaconda\\envs\\IMLS\\lib\\site-packages\\ipykernel_launcher.py:79: DataConversionWarning: A column-vector y was passed when a 1d array was expected. Please change the shape of y to (n_samples,), for example using ravel().\n",
      "e:\\Anaconda\\envs\\IMLS\\lib\\site-packages\\ipykernel_launcher.py:79: DataConversionWarning: A column-vector y was passed when a 1d array was expected. Please change the shape of y to (n_samples,), for example using ravel().\n"
     ]
    },
    {
     "name": "stdout",
     "output_type": "stream",
     "text": [
      "Accuracy on randomforest test: 0.7756410256410257\n",
      "Accuracy on randomforest test with more features: 0.7756410256410257\n"
     ]
    },
    {
     "name": "stderr",
     "output_type": "stream",
     "text": [
      "e:\\Anaconda\\envs\\IMLS\\lib\\site-packages\\sklearn\\utils\\validation.py:993: DataConversionWarning: A column-vector y was passed when a 1d array was expected. Please change the shape of y to (n_samples, ), for example using ravel().\n",
      "  y = column_or_1d(y, warn=True)\n",
      "e:\\Anaconda\\envs\\IMLS\\lib\\site-packages\\ipykernel_launcher.py:79: DataConversionWarning: A column-vector y was passed when a 1d array was expected. Please change the shape of y to (n_samples,), for example using ravel().\n",
      "e:\\Anaconda\\envs\\IMLS\\lib\\site-packages\\ipykernel_launcher.py:79: DataConversionWarning: A column-vector y was passed when a 1d array was expected. Please change the shape of y to (n_samples,), for example using ravel().\n"
     ]
    },
    {
     "name": "stdout",
     "output_type": "stream",
     "text": [
      "Accuracy on logistic test: 0.7692307692307693\n",
      "Accuracy on randomforest test: 0.7628205128205128\n",
      "Accuracy on randomforest test with more features: 0.7628205128205128\n",
      "Accuracy on logistic test: 0.8012820512820513\n"
     ]
    },
    {
     "name": "stderr",
     "output_type": "stream",
     "text": [
      "e:\\Anaconda\\envs\\IMLS\\lib\\site-packages\\sklearn\\utils\\validation.py:993: DataConversionWarning: A column-vector y was passed when a 1d array was expected. Please change the shape of y to (n_samples, ), for example using ravel().\n",
      "  y = column_or_1d(y, warn=True)\n",
      "e:\\Anaconda\\envs\\IMLS\\lib\\site-packages\\ipykernel_launcher.py:79: DataConversionWarning: A column-vector y was passed when a 1d array was expected. Please change the shape of y to (n_samples,), for example using ravel().\n",
      "e:\\Anaconda\\envs\\IMLS\\lib\\site-packages\\ipykernel_launcher.py:79: DataConversionWarning: A column-vector y was passed when a 1d array was expected. Please change the shape of y to (n_samples,), for example using ravel().\n"
     ]
    },
    {
     "name": "stdout",
     "output_type": "stream",
     "text": [
      "Accuracy on randomforest test: 0.782051282051282\n",
      "Accuracy on randomforest test with more features: 0.8141025641025641\n"
     ]
    },
    {
     "name": "stderr",
     "output_type": "stream",
     "text": [
      "e:\\Anaconda\\envs\\IMLS\\lib\\site-packages\\sklearn\\utils\\validation.py:993: DataConversionWarning: A column-vector y was passed when a 1d array was expected. Please change the shape of y to (n_samples, ), for example using ravel().\n",
      "  y = column_or_1d(y, warn=True)\n",
      "e:\\Anaconda\\envs\\IMLS\\lib\\site-packages\\ipykernel_launcher.py:79: DataConversionWarning: A column-vector y was passed when a 1d array was expected. Please change the shape of y to (n_samples,), for example using ravel().\n",
      "e:\\Anaconda\\envs\\IMLS\\lib\\site-packages\\ipykernel_launcher.py:79: DataConversionWarning: A column-vector y was passed when a 1d array was expected. Please change the shape of y to (n_samples,), for example using ravel().\n"
     ]
    },
    {
     "name": "stdout",
     "output_type": "stream",
     "text": [
      "Accuracy on logistic test: 0.8076923076923077\n",
      "Accuracy on randomforest test: 0.8076923076923077\n",
      "Accuracy on randomforest test with more features: 0.8205128205128205\n",
      "Accuracy on logistic test: 0.7884615384615384\n"
     ]
    },
    {
     "name": "stderr",
     "output_type": "stream",
     "text": [
      "e:\\Anaconda\\envs\\IMLS\\lib\\site-packages\\sklearn\\utils\\validation.py:993: DataConversionWarning: A column-vector y was passed when a 1d array was expected. Please change the shape of y to (n_samples, ), for example using ravel().\n",
      "  y = column_or_1d(y, warn=True)\n",
      "e:\\Anaconda\\envs\\IMLS\\lib\\site-packages\\ipykernel_launcher.py:79: DataConversionWarning: A column-vector y was passed when a 1d array was expected. Please change the shape of y to (n_samples,), for example using ravel().\n"
     ]
    },
    {
     "name": "stdout",
     "output_type": "stream",
     "text": [
      "Accuracy on randomforest test: 0.7692307692307693\n",
      "Accuracy on randomforest test with more features: 0.7948717948717948\n"
     ]
    },
    {
     "name": "stderr",
     "output_type": "stream",
     "text": [
      "e:\\Anaconda\\envs\\IMLS\\lib\\site-packages\\ipykernel_launcher.py:79: DataConversionWarning: A column-vector y was passed when a 1d array was expected. Please change the shape of y to (n_samples,), for example using ravel().\n",
      "e:\\Anaconda\\envs\\IMLS\\lib\\site-packages\\sklearn\\utils\\validation.py:993: DataConversionWarning: A column-vector y was passed when a 1d array was expected. Please change the shape of y to (n_samples, ), for example using ravel().\n",
      "  y = column_or_1d(y, warn=True)\n"
     ]
    },
    {
     "name": "stdout",
     "output_type": "stream",
     "text": [
      "Accuracy on logistic test: 0.7884615384615384\n",
      "Accuracy on randomforest test: 0.8141025641025641\n"
     ]
    },
    {
     "name": "stderr",
     "output_type": "stream",
     "text": [
      "e:\\Anaconda\\envs\\IMLS\\lib\\site-packages\\ipykernel_launcher.py:79: DataConversionWarning: A column-vector y was passed when a 1d array was expected. Please change the shape of y to (n_samples,), for example using ravel().\n",
      "e:\\Anaconda\\envs\\IMLS\\lib\\site-packages\\ipykernel_launcher.py:79: DataConversionWarning: A column-vector y was passed when a 1d array was expected. Please change the shape of y to (n_samples,), for example using ravel().\n"
     ]
    },
    {
     "name": "stdout",
     "output_type": "stream",
     "text": [
      "Accuracy on randomforest test with more features: 0.7884615384615384\n",
      "Accuracy on logistic test: 0.7884615384615384\n"
     ]
    },
    {
     "name": "stderr",
     "output_type": "stream",
     "text": [
      "e:\\Anaconda\\envs\\IMLS\\lib\\site-packages\\sklearn\\utils\\validation.py:993: DataConversionWarning: A column-vector y was passed when a 1d array was expected. Please change the shape of y to (n_samples, ), for example using ravel().\n",
      "  y = column_or_1d(y, warn=True)\n",
      "e:\\Anaconda\\envs\\IMLS\\lib\\site-packages\\ipykernel_launcher.py:79: DataConversionWarning: A column-vector y was passed when a 1d array was expected. Please change the shape of y to (n_samples,), for example using ravel().\n"
     ]
    },
    {
     "name": "stdout",
     "output_type": "stream",
     "text": [
      "Accuracy on randomforest test: 0.7948717948717948\n",
      "Accuracy on randomforest test with more features: 0.7692307692307693\n"
     ]
    },
    {
     "name": "stderr",
     "output_type": "stream",
     "text": [
      "e:\\Anaconda\\envs\\IMLS\\lib\\site-packages\\ipykernel_launcher.py:79: DataConversionWarning: A column-vector y was passed when a 1d array was expected. Please change the shape of y to (n_samples,), for example using ravel().\n",
      "e:\\Anaconda\\envs\\IMLS\\lib\\site-packages\\sklearn\\utils\\validation.py:993: DataConversionWarning: A column-vector y was passed when a 1d array was expected. Please change the shape of y to (n_samples, ), for example using ravel().\n",
      "  y = column_or_1d(y, warn=True)\n",
      "e:\\Anaconda\\envs\\IMLS\\lib\\site-packages\\ipykernel_launcher.py:79: DataConversionWarning: A column-vector y was passed when a 1d array was expected. Please change the shape of y to (n_samples,), for example using ravel().\n"
     ]
    },
    {
     "name": "stdout",
     "output_type": "stream",
     "text": [
      "Accuracy on logistic test: 0.7948717948717948\n",
      "Accuracy on randomforest test: 0.7756410256410257\n"
     ]
    },
    {
     "name": "stderr",
     "output_type": "stream",
     "text": [
      "e:\\Anaconda\\envs\\IMLS\\lib\\site-packages\\ipykernel_launcher.py:79: DataConversionWarning: A column-vector y was passed when a 1d array was expected. Please change the shape of y to (n_samples,), for example using ravel().\n"
     ]
    },
    {
     "name": "stdout",
     "output_type": "stream",
     "text": [
      "Accuracy on randomforest test with more features: 0.7628205128205128\n",
      "Accuracy on logistic test: 0.7948717948717948\n"
     ]
    },
    {
     "name": "stderr",
     "output_type": "stream",
     "text": [
      "e:\\Anaconda\\envs\\IMLS\\lib\\site-packages\\sklearn\\utils\\validation.py:993: DataConversionWarning: A column-vector y was passed when a 1d array was expected. Please change the shape of y to (n_samples, ), for example using ravel().\n",
      "  y = column_or_1d(y, warn=True)\n",
      "e:\\Anaconda\\envs\\IMLS\\lib\\site-packages\\ipykernel_launcher.py:79: DataConversionWarning: A column-vector y was passed when a 1d array was expected. Please change the shape of y to (n_samples,), for example using ravel().\n"
     ]
    },
    {
     "name": "stdout",
     "output_type": "stream",
     "text": [
      "Accuracy on randomforest test: 0.7564102564102564\n"
     ]
    },
    {
     "name": "stderr",
     "output_type": "stream",
     "text": [
      "e:\\Anaconda\\envs\\IMLS\\lib\\site-packages\\ipykernel_launcher.py:79: DataConversionWarning: A column-vector y was passed when a 1d array was expected. Please change the shape of y to (n_samples,), for example using ravel().\n"
     ]
    },
    {
     "name": "stdout",
     "output_type": "stream",
     "text": [
      "Accuracy on randomforest test with more features: 0.782051282051282\n"
     ]
    },
    {
     "data": {
      "image/png": "[encoded data removed]",
      "text/plain": [
       "<Figure size 640x480 with 1 Axes>"
      ]
     },
     "metadata": {},
     "output_type": "display_data"
    }
   ],
   "source": [
    "import numpy as np\n",
    "import sklearn\n",
    "import matplotlib.pyplot as plt\n",
    "from sklearn.decomposition import PCA\n",
    "\n",
    "data = np.load('../Datasets/breastmnist.npz')\n",
    "\n",
    "# assign data to train, validation, and test sets. Normalize the pixel value. \n",
    "train_data = data['train_images']/255 \n",
    "train_label = data['train_labels']\n",
    "val_data = data['val_images']/255\n",
    "val_label = data['val_labels']\n",
    "test_data = data['test_images']/255\n",
    "test_label = data['test_labels']\n",
    "\n",
    "def flatten_data(train_data, test_data, val_data, n_component=0.9):\n",
    "    \"\"\"\n",
    "    Flatten the image data to 1D for linear models an use PCA for dimensionality reduction. \n",
    "    The [number of imfages, 28, 28] image data are reshaped to [number of imfages, 28*28], \n",
    "    and PCA is used to reduce the dimension of 784. When n_component>=1, it is the number of\n",
    "    the dimension. While 0<n_component<1, it means the percentage boundary of variance.\n",
    "    \n",
    "    Args:\n",
    "        train_data(numpy array): train data of 2D grayscale image (num_samples, height, width)\n",
    "        val_data(numpy array): validation data of 2D grayscale image (num_samples, height, width)\n",
    "        test_data(numpy array): test data of 2D grayscale image (num_samples, height, width)\n",
    "        n_component(int, float) default=0.9: PCA n_component input\n",
    "    \n",
    "    Returns:\n",
    "        train_flattened(numpy array): train data in shape of (num_samples, num_features)\n",
    "        val_flattened(numpy array): validation data in shape of (num_samples, num_features)\n",
    "        test_flattened(numpy array): test data in shape of (num_samples, num_features)\n",
    "    \"\"\"\n",
    "\n",
    "    train_flattened = train_data.reshape(train_data.shape[0], -1)\n",
    "    pca = PCA(n_components=n_component)\n",
    "    train_flattened = pca.fit_transform(train_flattened)\n",
    "\n",
    "    val_flattened = val_data.reshape(val_data.shape[0], -1)\n",
    "    val_flattened = pca.transform(val_flattened)\n",
    "\n",
    "    test_flattened = test_data.reshape(test_data.shape[0], -1)\n",
    "    test_flattened = pca.transform(test_flattened)\n",
    "\n",
    "    return train_flattened, val_flattened, test_flattened\n",
    "\n",
    "def logistic_regression(train_data,train_label,test_data):\n",
    "    \"\"\"\n",
    "    Implement logistic regression training on train_flattened data and train_label.\n",
    "    Predict pred_label based on test_flattened and return it\n",
    "\n",
    "    Args: \n",
    "        train_data(numpy array): Data for train\n",
    "        train_label(numpy array): The train labels\n",
    "        test_data(numpy array): Data for test\n",
    "\n",
    "    Returns:\n",
    "        pred_label(numpy array): Predicted labels for test data\n",
    "    \"\"\"\n",
    "    logreg = sklearn.linear_model.LogisticRegression(solver='lbfgs')\n",
    "    logreg.fit(train_data,train_label)\n",
    "    pred_label = logreg.predict(test_data)\n",
    "    return pred_label\n",
    "\n",
    "def randomforestclassify(train_data,train_label,test_data):\n",
    "    \"\"\"\n",
    "    Implement randomforest training on train_flattened data and train_label.\n",
    "    Predict pred_label based on test_flattened and return it\n",
    "\n",
    "    Args: \n",
    "        train_data(numpy array): Data for train\n",
    "        train_label(numpy array): The train labels\n",
    "        test_data(numpy array): Data for test\n",
    "\n",
    "    Returns:\n",
    "        pred_label(numpy array): Predicted labels for test data\n",
    "    \"\"\"\n",
    "    randf = sklearn.ensemble.RandomForestClassifier(n_estimators=100)\n",
    "    randf.fit(train_data,train_label)\n",
    "    pred_label = randf.predict(test_data)\n",
    "    return pred_label\n",
    "\n",
    "def add_features(original_data,flattened_data):\n",
    "    \"\"\"\n",
    "    Add statistical features (mean and STD) of the original data\n",
    "    to the flattened data \n",
    "\n",
    "    Args:\n",
    "        original_data(numpy array): The original non-flattened data\n",
    "        flattened_data(numpy array): The flattened and dimension-reduced data\n",
    "\n",
    "    Returns:\n",
    "        new_data(numpy array): the flattened_data combine with mean and STD features\n",
    "        for each sample(image)\n",
    "    \"\"\"\n",
    "    new_data=[]\n",
    "    original_data = original_data.reshape(original_data.shape[0], -1)\n",
    "    for data1, data2 in zip(original_data,flattened_data):\n",
    "        new_feature = np.concatenate((data2,[np.mean(data1),np.std(data1)]))\n",
    "        new_data.append(new_feature)\n",
    "    return np.array(new_data)\n",
    "\n",
    "n_components = np.arange(0.05, 1, 0.05)\n",
    "logistic_accuracy = []\n",
    "randomforest_accuracy1 = []\n",
    "randomforest_accuracy2 = []\n",
    "\n",
    "for n_component in n_components:\n",
    "    train_flattened, val_flattened, test_flattened = flatten_data(train_data, test_data, val_data, n_component)\n",
    "\n",
    "    pred_label = logistic_regression(train_flattened,train_label,test_flattened)\n",
    "    accuracy = sklearn.metrics.accuracy_score(test_label, pred_label)\n",
    "    print('Accuracy on logistic test: '+str(accuracy))\n",
    "    logistic_accuracy.append(accuracy)\n",
    "\n",
    "    pred_label1 = randomforestclassify(train_flattened,train_label,test_flattened)\n",
    "    accuracy1 = sklearn.metrics.accuracy_score(test_label, pred_label1)\n",
    "    print('Accuracy on randomforest test: '+str(accuracy1))\n",
    "    randomforest_accuracy1.append(accuracy1)\n",
    "\n",
    "    pred_label2 = randomforestclassify(add_features(train_data,train_flattened),train_label,add_features(test_data,test_flattened))\n",
    "    accuracy2 = sklearn.metrics.accuracy_score(test_label, pred_label2)\n",
    "    print('Accuracy on randomforest test with more features: '+str(accuracy2))\n",
    "    randomforest_accuracy2.append(accuracy2)\n",
    "\n",
    "plt.plot(n_components,logistic_accuracy,'o-',label='logistic regression accuracy')\n",
    "plt.plot(n_components,randomforest_accuracy1,'o-',label='randomforest accuracy')\n",
    "plt.plot(n_components,randomforest_accuracy2,'o-',label='randomforest with more features accuracy')\n",
    "plt.xlabel(\"n_component for PCA, percentage of variance (decision boundary for number of features)\")\n",
    "plt.ylabel(\"Accuracy\")\n",
    "plt.legend()\n",
    "plt.title(\"Task A\")\n",
    "plt.show()\n"
   ]
  },
  {
   "cell_type": "code",
   "execution_count": null,
   "metadata": {},
   "outputs": [],
   "source": []
  }
 ],
 "metadata": {
  "kernelspec": {
   "display_name": "IMLS",
   "language": "python",
   "name": "python3"
  },
  "language_info": {
   "codemirror_mode": {
    "name": "ipython",
    "version": 3
   },
   "file_extension": ".py",
   "mimetype": "text/x-python",
   "name": "python",
   "nbconvert_exporter": "python",
   "pygments_lexer": "ipython3",
   "version": "3.7.16"
  }
 },
 "nbformat": 4,
 "nbformat_minor": 2
}
